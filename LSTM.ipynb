{
  "cells": [
    {
      "cell_type": "markdown",
      "metadata": {
        "id": "view-in-github",
        "colab_type": "text"
      },
      "source": [
        "<a href=\"https://colab.research.google.com/github/Niraj7667/ML-models/blob/main/LSTM.ipynb\" target=\"_parent\"><img src=\"https://colab.research.google.com/assets/colab-badge.svg\" alt=\"Open In Colab\"/></a>"
      ]
    },
    {
      "cell_type": "markdown",
      "metadata": {
        "id": "eHNf7J680XF-"
      },
      "source": [
        "### Word Embedding Techniques using Embedding Layer in Keras"
      ]
    },
    {
      "cell_type": "code",
      "execution_count": null,
      "metadata": {
        "id": "PEsK0_yl0XGB"
      },
      "outputs": [],
      "source": [
        "### Libraries USed Tensorflow> 2.0  and keras"
      ]
    },
    {
      "cell_type": "code",
      "execution_count": 2,
      "metadata": {
        "colab": {
          "base_uri": "https://localhost:8080/"
        },
        "id": "pslw1Ya90XGC",
        "outputId": "dcad7893-b7ff-4d46-a8e5-a555d2eb69ef"
      },
      "outputs": [
        {
          "output_type": "stream",
          "name": "stdout",
          "text": [
            "Requirement already satisfied: tensorflow in /usr/local/lib/python3.12/dist-packages (2.19.0)\n",
            "Requirement already satisfied: absl-py>=1.0.0 in /usr/local/lib/python3.12/dist-packages (from tensorflow) (1.4.0)\n",
            "Requirement already satisfied: astunparse>=1.6.0 in /usr/local/lib/python3.12/dist-packages (from tensorflow) (1.6.3)\n",
            "Requirement already satisfied: flatbuffers>=24.3.25 in /usr/local/lib/python3.12/dist-packages (from tensorflow) (25.9.23)\n",
            "Requirement already satisfied: gast!=0.5.0,!=0.5.1,!=0.5.2,>=0.2.1 in /usr/local/lib/python3.12/dist-packages (from tensorflow) (0.6.0)\n",
            "Requirement already satisfied: google-pasta>=0.1.1 in /usr/local/lib/python3.12/dist-packages (from tensorflow) (0.2.0)\n",
            "Requirement already satisfied: libclang>=13.0.0 in /usr/local/lib/python3.12/dist-packages (from tensorflow) (18.1.1)\n",
            "Requirement already satisfied: opt-einsum>=2.3.2 in /usr/local/lib/python3.12/dist-packages (from tensorflow) (3.4.0)\n",
            "Requirement already satisfied: packaging in /usr/local/lib/python3.12/dist-packages (from tensorflow) (25.0)\n",
            "Requirement already satisfied: protobuf!=4.21.0,!=4.21.1,!=4.21.2,!=4.21.3,!=4.21.4,!=4.21.5,<6.0.0dev,>=3.20.3 in /usr/local/lib/python3.12/dist-packages (from tensorflow) (5.29.5)\n",
            "Requirement already satisfied: requests<3,>=2.21.0 in /usr/local/lib/python3.12/dist-packages (from tensorflow) (2.32.4)\n",
            "Requirement already satisfied: setuptools in /usr/local/lib/python3.12/dist-packages (from tensorflow) (75.2.0)\n",
            "Requirement already satisfied: six>=1.12.0 in /usr/local/lib/python3.12/dist-packages (from tensorflow) (1.17.0)\n",
            "Requirement already satisfied: termcolor>=1.1.0 in /usr/local/lib/python3.12/dist-packages (from tensorflow) (3.2.0)\n",
            "Requirement already satisfied: typing-extensions>=3.6.6 in /usr/local/lib/python3.12/dist-packages (from tensorflow) (4.15.0)\n",
            "Requirement already satisfied: wrapt>=1.11.0 in /usr/local/lib/python3.12/dist-packages (from tensorflow) (2.0.0)\n",
            "Requirement already satisfied: grpcio<2.0,>=1.24.3 in /usr/local/lib/python3.12/dist-packages (from tensorflow) (1.76.0)\n",
            "Requirement already satisfied: tensorboard~=2.19.0 in /usr/local/lib/python3.12/dist-packages (from tensorflow) (2.19.0)\n",
            "Requirement already satisfied: keras>=3.5.0 in /usr/local/lib/python3.12/dist-packages (from tensorflow) (3.10.0)\n",
            "Requirement already satisfied: numpy<2.2.0,>=1.26.0 in /usr/local/lib/python3.12/dist-packages (from tensorflow) (2.0.2)\n",
            "Requirement already satisfied: h5py>=3.11.0 in /usr/local/lib/python3.12/dist-packages (from tensorflow) (3.15.1)\n",
            "Requirement already satisfied: ml-dtypes<1.0.0,>=0.5.1 in /usr/local/lib/python3.12/dist-packages (from tensorflow) (0.5.3)\n",
            "Requirement already satisfied: wheel<1.0,>=0.23.0 in /usr/local/lib/python3.12/dist-packages (from astunparse>=1.6.0->tensorflow) (0.45.1)\n",
            "Requirement already satisfied: rich in /usr/local/lib/python3.12/dist-packages (from keras>=3.5.0->tensorflow) (13.9.4)\n",
            "Requirement already satisfied: namex in /usr/local/lib/python3.12/dist-packages (from keras>=3.5.0->tensorflow) (0.1.0)\n",
            "Requirement already satisfied: optree in /usr/local/lib/python3.12/dist-packages (from keras>=3.5.0->tensorflow) (0.17.0)\n",
            "Requirement already satisfied: charset_normalizer<4,>=2 in /usr/local/lib/python3.12/dist-packages (from requests<3,>=2.21.0->tensorflow) (3.4.4)\n",
            "Requirement already satisfied: idna<4,>=2.5 in /usr/local/lib/python3.12/dist-packages (from requests<3,>=2.21.0->tensorflow) (3.11)\n",
            "Requirement already satisfied: urllib3<3,>=1.21.1 in /usr/local/lib/python3.12/dist-packages (from requests<3,>=2.21.0->tensorflow) (2.5.0)\n",
            "Requirement already satisfied: certifi>=2017.4.17 in /usr/local/lib/python3.12/dist-packages (from requests<3,>=2.21.0->tensorflow) (2025.10.5)\n",
            "Requirement already satisfied: markdown>=2.6.8 in /usr/local/lib/python3.12/dist-packages (from tensorboard~=2.19.0->tensorflow) (3.9)\n",
            "Requirement already satisfied: tensorboard-data-server<0.8.0,>=0.7.0 in /usr/local/lib/python3.12/dist-packages (from tensorboard~=2.19.0->tensorflow) (0.7.2)\n",
            "Requirement already satisfied: werkzeug>=1.0.1 in /usr/local/lib/python3.12/dist-packages (from tensorboard~=2.19.0->tensorflow) (3.1.3)\n",
            "Requirement already satisfied: MarkupSafe>=2.1.1 in /usr/local/lib/python3.12/dist-packages (from werkzeug>=1.0.1->tensorboard~=2.19.0->tensorflow) (3.0.3)\n",
            "Requirement already satisfied: markdown-it-py>=2.2.0 in /usr/local/lib/python3.12/dist-packages (from rich->keras>=3.5.0->tensorflow) (4.0.0)\n",
            "Requirement already satisfied: pygments<3.0.0,>=2.13.0 in /usr/local/lib/python3.12/dist-packages (from rich->keras>=3.5.0->tensorflow) (2.19.2)\n",
            "Requirement already satisfied: mdurl~=0.1 in /usr/local/lib/python3.12/dist-packages (from markdown-it-py>=2.2.0->rich->keras>=3.5.0->tensorflow) (0.1.2)\n"
          ]
        }
      ],
      "source": [
        "!pip install tensorflow"
      ]
    },
    {
      "cell_type": "code",
      "source": [
        "import tensorflow as tf\n",
        "print(tf.__version__)"
      ],
      "metadata": {
        "colab": {
          "base_uri": "https://localhost:8080/"
        },
        "id": "yZ5hceiMAX7n",
        "outputId": "f0bb631f-c709-4c9f-d149-5ba935996eff"
      },
      "execution_count": 3,
      "outputs": [
        {
          "output_type": "stream",
          "name": "stdout",
          "text": [
            "2.19.0\n"
          ]
        }
      ]
    },
    {
      "cell_type": "code",
      "execution_count": 4,
      "metadata": {
        "id": "k4nKifUl0XGC"
      },
      "outputs": [],
      "source": [
        "##tensorflow >2.0\n",
        "from tensorflow.keras.preprocessing.text import one_hot"
      ]
    },
    {
      "cell_type": "code",
      "source": [],
      "metadata": {
        "id": "hADTdqZTAUfS"
      },
      "execution_count": null,
      "outputs": []
    },
    {
      "cell_type": "code",
      "execution_count": 5,
      "metadata": {
        "id": "Fu9PuYeu0XGD"
      },
      "outputs": [],
      "source": [
        "### sentences\n",
        "sent=[  'the glass of milk',\n",
        "     'the glass of juice',\n",
        "     'the cup of tea',\n",
        "    'I am a good boy',\n",
        "     'I am a good developer',\n",
        "     'understand the meaning of words',\n",
        "     'your videos are good']"
      ]
    },
    {
      "cell_type": "code",
      "execution_count": 6,
      "metadata": {
        "colab": {
          "base_uri": "https://localhost:8080/"
        },
        "id": "x5d1D3_20XGD",
        "outputId": "b8b8e588-13ae-4edf-e0c8-ada209ffedbe"
      },
      "outputs": [
        {
          "output_type": "execute_result",
          "data": {
            "text/plain": [
              "['the glass of milk',\n",
              " 'the glass of juice',\n",
              " 'the cup of tea',\n",
              " 'I am a good boy',\n",
              " 'I am a good developer',\n",
              " 'understand the meaning of words',\n",
              " 'your videos are good']"
            ]
          },
          "metadata": {},
          "execution_count": 6
        }
      ],
      "source": [
        "sent"
      ]
    },
    {
      "cell_type": "code",
      "execution_count": 13,
      "metadata": {
        "id": "tjnXIn3B0XGE"
      },
      "outputs": [],
      "source": [
        "### Vocabulary size\n",
        "voc_size=500"
      ]
    },
    {
      "cell_type": "markdown",
      "metadata": {
        "id": "-vQOdeKk0XGE"
      },
      "source": [
        "#### One Hot Representation"
      ]
    },
    {
      "cell_type": "code",
      "execution_count": 14,
      "metadata": {
        "colab": {
          "base_uri": "https://localhost:8080/"
        },
        "id": "gojfZpAW0XGE",
        "outputId": "499bb554-0e14-4770-af0d-32f2466830b6"
      },
      "outputs": [
        {
          "output_type": "stream",
          "name": "stdout",
          "text": [
            "[[487, 124, 73, 15], [487, 124, 73, 1], [487, 79, 73, 59], [296, 154, 215, 488, 157], [296, 154, 215, 488, 426], [196, 487, 255, 73, 167], [312, 268, 349, 488]]\n"
          ]
        }
      ],
      "source": [
        "onehot_repr=[one_hot(words,voc_size)for words in sent]\n",
        "print(onehot_repr)"
      ]
    },
    {
      "cell_type": "markdown",
      "metadata": {
        "id": "eYG267x40XGF"
      },
      "source": [
        "### Word Embedding Represntation"
      ]
    },
    {
      "cell_type": "code",
      "execution_count": 15,
      "metadata": {
        "id": "wpqPm0tb0XGF"
      },
      "outputs": [],
      "source": [
        "from tensorflow.keras.layers import Embedding\n",
        "from tensorflow.keras.preprocessing.sequence import pad_sequences\n",
        "from tensorflow.keras.models import Sequential"
      ]
    },
    {
      "cell_type": "code",
      "execution_count": null,
      "metadata": {
        "id": "Rov3GTM00XGG"
      },
      "outputs": [],
      "source": [
        "import numpy as np"
      ]
    },
    {
      "cell_type": "code",
      "execution_count": 17,
      "metadata": {
        "colab": {
          "base_uri": "https://localhost:8080/"
        },
        "id": "8fQLPw6p0XGG",
        "outputId": "e9f0b84d-6b56-4b6a-8499-3f0f9e74b963"
      },
      "outputs": [
        {
          "output_type": "stream",
          "name": "stdout",
          "text": [
            "[[  0   0   0   0 487 124  73  15]\n",
            " [  0   0   0   0 487 124  73   1]\n",
            " [  0   0   0   0 487  79  73  59]\n",
            " [  0   0   0 296 154 215 488 157]\n",
            " [  0   0   0 296 154 215 488 426]\n",
            " [  0   0   0 196 487 255  73 167]\n",
            " [  0   0   0   0 312 268 349 488]]\n"
          ]
        }
      ],
      "source": [
        "## pre padding\n",
        "sent_length=8\n",
        "embedded_docs=pad_sequences(onehot_repr,padding='pre',maxlen=sent_length)\n",
        "print(embedded_docs)"
      ]
    },
    {
      "cell_type": "code",
      "execution_count": 18,
      "metadata": {
        "id": "yjQqBYac0XGG"
      },
      "outputs": [],
      "source": [
        "## 10 feature dimesnions\n",
        "dim=10\n"
      ]
    },
    {
      "cell_type": "code",
      "execution_count": 20,
      "metadata": {
        "id": "ozC-TXrt0XGG"
      },
      "outputs": [],
      "source": [
        "model=Sequential()\n",
        "model.add(Embedding(voc_size,10,input_length=sent_length))\n",
        "model.compile('adam','mse')"
      ]
    },
    {
      "cell_type": "code",
      "execution_count": 21,
      "metadata": {
        "colab": {
          "base_uri": "https://localhost:8080/",
          "height": 173
        },
        "id": "tMNvq-Ji0XGH",
        "outputId": "4cc0ad71-6b8b-49c9-e701-8800d2e12c26"
      },
      "outputs": [
        {
          "output_type": "display_data",
          "data": {
            "text/plain": [
              "\u001b[1mModel: \"sequential_1\"\u001b[0m\n"
            ],
            "text/html": [
              "<pre style=\"white-space:pre;overflow-x:auto;line-height:normal;font-family:Menlo,'DejaVu Sans Mono',consolas,'Courier New',monospace\"><span style=\"font-weight: bold\">Model: \"sequential_1\"</span>\n",
              "</pre>\n"
            ]
          },
          "metadata": {}
        },
        {
          "output_type": "display_data",
          "data": {
            "text/plain": [
              "┏━━━━━━━━━━━━━━━━━━━━━━━━━━━━━━━━━┳━━━━━━━━━━━━━━━━━━━━━━━━┳━━━━━━━━━━━━━━━┓\n",
              "┃\u001b[1m \u001b[0m\u001b[1mLayer (type)                   \u001b[0m\u001b[1m \u001b[0m┃\u001b[1m \u001b[0m\u001b[1mOutput Shape          \u001b[0m\u001b[1m \u001b[0m┃\u001b[1m \u001b[0m\u001b[1m      Param #\u001b[0m\u001b[1m \u001b[0m┃\n",
              "┡━━━━━━━━━━━━━━━━━━━━━━━━━━━━━━━━━╇━━━━━━━━━━━━━━━━━━━━━━━━╇━━━━━━━━━━━━━━━┩\n",
              "│ embedding_1 (\u001b[38;5;33mEmbedding\u001b[0m)         │ ?                      │   \u001b[38;5;34m0\u001b[0m (unbuilt) │\n",
              "└─────────────────────────────────┴────────────────────────┴───────────────┘\n"
            ],
            "text/html": [
              "<pre style=\"white-space:pre;overflow-x:auto;line-height:normal;font-family:Menlo,'DejaVu Sans Mono',consolas,'Courier New',monospace\">┏━━━━━━━━━━━━━━━━━━━━━━━━━━━━━━━━━┳━━━━━━━━━━━━━━━━━━━━━━━━┳━━━━━━━━━━━━━━━┓\n",
              "┃<span style=\"font-weight: bold\"> Layer (type)                    </span>┃<span style=\"font-weight: bold\"> Output Shape           </span>┃<span style=\"font-weight: bold\">       Param # </span>┃\n",
              "┡━━━━━━━━━━━━━━━━━━━━━━━━━━━━━━━━━╇━━━━━━━━━━━━━━━━━━━━━━━━╇━━━━━━━━━━━━━━━┩\n",
              "│ embedding_1 (<span style=\"color: #0087ff; text-decoration-color: #0087ff\">Embedding</span>)         │ ?                      │   <span style=\"color: #00af00; text-decoration-color: #00af00\">0</span> (unbuilt) │\n",
              "└─────────────────────────────────┴────────────────────────┴───────────────┘\n",
              "</pre>\n"
            ]
          },
          "metadata": {}
        },
        {
          "output_type": "display_data",
          "data": {
            "text/plain": [
              "\u001b[1m Total params: \u001b[0m\u001b[38;5;34m0\u001b[0m (0.00 B)\n"
            ],
            "text/html": [
              "<pre style=\"white-space:pre;overflow-x:auto;line-height:normal;font-family:Menlo,'DejaVu Sans Mono',consolas,'Courier New',monospace\"><span style=\"font-weight: bold\"> Total params: </span><span style=\"color: #00af00; text-decoration-color: #00af00\">0</span> (0.00 B)\n",
              "</pre>\n"
            ]
          },
          "metadata": {}
        },
        {
          "output_type": "display_data",
          "data": {
            "text/plain": [
              "\u001b[1m Trainable params: \u001b[0m\u001b[38;5;34m0\u001b[0m (0.00 B)\n"
            ],
            "text/html": [
              "<pre style=\"white-space:pre;overflow-x:auto;line-height:normal;font-family:Menlo,'DejaVu Sans Mono',consolas,'Courier New',monospace\"><span style=\"font-weight: bold\"> Trainable params: </span><span style=\"color: #00af00; text-decoration-color: #00af00\">0</span> (0.00 B)\n",
              "</pre>\n"
            ]
          },
          "metadata": {}
        },
        {
          "output_type": "display_data",
          "data": {
            "text/plain": [
              "\u001b[1m Non-trainable params: \u001b[0m\u001b[38;5;34m0\u001b[0m (0.00 B)\n"
            ],
            "text/html": [
              "<pre style=\"white-space:pre;overflow-x:auto;line-height:normal;font-family:Menlo,'DejaVu Sans Mono',consolas,'Courier New',monospace\"><span style=\"font-weight: bold\"> Non-trainable params: </span><span style=\"color: #00af00; text-decoration-color: #00af00\">0</span> (0.00 B)\n",
              "</pre>\n"
            ]
          },
          "metadata": {}
        }
      ],
      "source": [
        "model.summary()"
      ]
    },
    {
      "cell_type": "code",
      "source": [
        "##'the glass of milk',\n",
        "embedded_docs[0]"
      ],
      "metadata": {
        "colab": {
          "base_uri": "https://localhost:8080/"
        },
        "id": "FC4Ess_FEcb3",
        "outputId": "38dfa5ca-99fe-47c6-a5d9-f50e1f3d0d98"
      },
      "execution_count": 22,
      "outputs": [
        {
          "output_type": "execute_result",
          "data": {
            "text/plain": [
              "array([  0,   0,   0,   0, 487, 124,  73,  15], dtype=int32)"
            ]
          },
          "metadata": {},
          "execution_count": 22
        }
      ]
    },
    {
      "cell_type": "code",
      "source": [
        "model.predict(embedded_docs[0])"
      ],
      "metadata": {
        "colab": {
          "base_uri": "https://localhost:8080/"
        },
        "id": "bRqEvMBYEZUS",
        "outputId": "021bd422-238e-4a3f-daa2-09323ef3153a"
      },
      "execution_count": null,
      "outputs": [
        {
          "output_type": "stream",
          "name": "stdout",
          "text": [
            "WARNING:tensorflow:Model was constructed with shape (None, 8) for input KerasTensor(type_spec=TensorSpec(shape=(None, 8), dtype=tf.float32, name='embedding_input'), name='embedding_input', description=\"created by layer 'embedding_input'\"), but it was called on an input with incompatible shape (None,).\n",
            "1/1 [==============================] - 0s 72ms/step\n"
          ]
        },
        {
          "output_type": "execute_result",
          "data": {
            "text/plain": [
              "array([[ 0.03938437, -0.02009605, -0.03878935, -0.04955565,  0.00419912,\n",
              "        -0.01431773,  0.02523251,  0.01653036,  0.04291571, -0.00864979],\n",
              "       [ 0.03938437, -0.02009605, -0.03878935, -0.04955565,  0.00419912,\n",
              "        -0.01431773,  0.02523251,  0.01653036,  0.04291571, -0.00864979],\n",
              "       [ 0.03938437, -0.02009605, -0.03878935, -0.04955565,  0.00419912,\n",
              "        -0.01431773,  0.02523251,  0.01653036,  0.04291571, -0.00864979],\n",
              "       [ 0.03938437, -0.02009605, -0.03878935, -0.04955565,  0.00419912,\n",
              "        -0.01431773,  0.02523251,  0.01653036,  0.04291571, -0.00864979],\n",
              "       [ 0.03059326, -0.04286614,  0.00899569,  0.00743791, -0.000781  ,\n",
              "         0.04186494,  0.03977301,  0.00326709,  0.00619651, -0.01993654],\n",
              "       [ 0.02512412, -0.0087087 ,  0.03144198,  0.00704668, -0.00177735,\n",
              "        -0.03415867, -0.00100178,  0.01562483,  0.03178963,  0.02784893],\n",
              "       [-0.00653008,  0.02340979, -0.01967902, -0.00494973, -0.02693756,\n",
              "        -0.03746525,  0.01460877, -0.00449115, -0.00130982, -0.0039017 ],\n",
              "       [-0.03150218,  0.01950303, -0.01415605, -0.00183152,  0.01207731,\n",
              "         0.02444079,  0.0140041 ,  0.0070256 ,  0.04950741, -0.03602346]],\n",
              "      dtype=float32)"
            ]
          },
          "metadata": {},
          "execution_count": 21
        }
      ]
    },
    {
      "cell_type": "code",
      "execution_count": 23,
      "metadata": {
        "colab": {
          "base_uri": "https://localhost:8080/"
        },
        "id": "kzKP69gx0XGH",
        "outputId": "41c673fd-2d7f-45ed-8f15-eab2c2ca2020"
      },
      "outputs": [
        {
          "output_type": "stream",
          "name": "stdout",
          "text": [
            "\u001b[1m1/1\u001b[0m \u001b[32m━━━━━━━━━━━━━━━━━━━━\u001b[0m\u001b[37m\u001b[0m \u001b[1m1s\u001b[0m 900ms/step\n",
            "[[[ 3.74207012e-02  6.90812990e-03  5.25091961e-03  3.22087295e-02\n",
            "   -2.76272893e-02 -1.23854391e-02  2.95639038e-05 -1.93890091e-02\n",
            "    4.78644632e-02 -2.40914822e-02]\n",
            "  [ 3.74207012e-02  6.90812990e-03  5.25091961e-03  3.22087295e-02\n",
            "   -2.76272893e-02 -1.23854391e-02  2.95639038e-05 -1.93890091e-02\n",
            "    4.78644632e-02 -2.40914822e-02]\n",
            "  [ 3.74207012e-02  6.90812990e-03  5.25091961e-03  3.22087295e-02\n",
            "   -2.76272893e-02 -1.23854391e-02  2.95639038e-05 -1.93890091e-02\n",
            "    4.78644632e-02 -2.40914822e-02]\n",
            "  [ 3.74207012e-02  6.90812990e-03  5.25091961e-03  3.22087295e-02\n",
            "   -2.76272893e-02 -1.23854391e-02  2.95639038e-05 -1.93890091e-02\n",
            "    4.78644632e-02 -2.40914822e-02]\n",
            "  [ 1.24138482e-02 -2.40385775e-02  4.35067154e-02  3.39941494e-02\n",
            "    2.94023491e-02 -9.75149870e-03  2.29061358e-02 -2.42879279e-02\n",
            "   -1.13171116e-02  1.34233721e-02]\n",
            "  [ 2.15178467e-02  2.70328633e-02  2.89572403e-03 -1.02014430e-02\n",
            "    2.20366381e-02 -9.26465914e-03  6.07014820e-03 -6.11620024e-03\n",
            "   -4.31775227e-02 -2.16420181e-02]\n",
            "  [ 2.65495293e-02  3.12193967e-02 -3.62458006e-02  4.58343960e-02\n",
            "    4.19578589e-02 -3.81281264e-02 -1.52752884e-02 -4.17662784e-03\n",
            "   -5.73103502e-03 -7.71726295e-03]\n",
            "  [-3.02563794e-02 -6.34860992e-03 -1.44396536e-02  2.23296322e-02\n",
            "    3.69699113e-02  7.11924955e-03  1.64903738e-02  2.14682557e-02\n",
            "   -4.38814051e-02 -2.26061475e-02]]\n",
            "\n",
            " [[ 3.74207012e-02  6.90812990e-03  5.25091961e-03  3.22087295e-02\n",
            "   -2.76272893e-02 -1.23854391e-02  2.95639038e-05 -1.93890091e-02\n",
            "    4.78644632e-02 -2.40914822e-02]\n",
            "  [ 3.74207012e-02  6.90812990e-03  5.25091961e-03  3.22087295e-02\n",
            "   -2.76272893e-02 -1.23854391e-02  2.95639038e-05 -1.93890091e-02\n",
            "    4.78644632e-02 -2.40914822e-02]\n",
            "  [ 3.74207012e-02  6.90812990e-03  5.25091961e-03  3.22087295e-02\n",
            "   -2.76272893e-02 -1.23854391e-02  2.95639038e-05 -1.93890091e-02\n",
            "    4.78644632e-02 -2.40914822e-02]\n",
            "  [ 3.74207012e-02  6.90812990e-03  5.25091961e-03  3.22087295e-02\n",
            "   -2.76272893e-02 -1.23854391e-02  2.95639038e-05 -1.93890091e-02\n",
            "    4.78644632e-02 -2.40914822e-02]\n",
            "  [ 1.24138482e-02 -2.40385775e-02  4.35067154e-02  3.39941494e-02\n",
            "    2.94023491e-02 -9.75149870e-03  2.29061358e-02 -2.42879279e-02\n",
            "   -1.13171116e-02  1.34233721e-02]\n",
            "  [ 2.15178467e-02  2.70328633e-02  2.89572403e-03 -1.02014430e-02\n",
            "    2.20366381e-02 -9.26465914e-03  6.07014820e-03 -6.11620024e-03\n",
            "   -4.31775227e-02 -2.16420181e-02]\n",
            "  [ 2.65495293e-02  3.12193967e-02 -3.62458006e-02  4.58343960e-02\n",
            "    4.19578589e-02 -3.81281264e-02 -1.52752884e-02 -4.17662784e-03\n",
            "   -5.73103502e-03 -7.71726295e-03]\n",
            "  [ 4.51271571e-02  3.86788882e-02  1.42627098e-02  4.75461408e-03\n",
            "    5.09340689e-03  3.43126096e-02 -2.20579859e-02 -2.43078955e-02\n",
            "   -4.23922911e-02 -1.65578611e-02]]\n",
            "\n",
            " [[ 3.74207012e-02  6.90812990e-03  5.25091961e-03  3.22087295e-02\n",
            "   -2.76272893e-02 -1.23854391e-02  2.95639038e-05 -1.93890091e-02\n",
            "    4.78644632e-02 -2.40914822e-02]\n",
            "  [ 3.74207012e-02  6.90812990e-03  5.25091961e-03  3.22087295e-02\n",
            "   -2.76272893e-02 -1.23854391e-02  2.95639038e-05 -1.93890091e-02\n",
            "    4.78644632e-02 -2.40914822e-02]\n",
            "  [ 3.74207012e-02  6.90812990e-03  5.25091961e-03  3.22087295e-02\n",
            "   -2.76272893e-02 -1.23854391e-02  2.95639038e-05 -1.93890091e-02\n",
            "    4.78644632e-02 -2.40914822e-02]\n",
            "  [ 3.74207012e-02  6.90812990e-03  5.25091961e-03  3.22087295e-02\n",
            "   -2.76272893e-02 -1.23854391e-02  2.95639038e-05 -1.93890091e-02\n",
            "    4.78644632e-02 -2.40914822e-02]\n",
            "  [ 1.24138482e-02 -2.40385775e-02  4.35067154e-02  3.39941494e-02\n",
            "    2.94023491e-02 -9.75149870e-03  2.29061358e-02 -2.42879279e-02\n",
            "   -1.13171116e-02  1.34233721e-02]\n",
            "  [ 1.81434043e-02  4.89457138e-02  1.22867823e-02 -4.99366298e-02\n",
            "    1.17060319e-02  3.52460183e-02 -4.29098494e-02  2.31994316e-03\n",
            "    1.66924037e-02 -6.68954849e-03]\n",
            "  [ 2.65495293e-02  3.12193967e-02 -3.62458006e-02  4.58343960e-02\n",
            "    4.19578589e-02 -3.81281264e-02 -1.52752884e-02 -4.17662784e-03\n",
            "   -5.73103502e-03 -7.71726295e-03]\n",
            "  [-1.56234875e-02 -4.45121899e-02  4.41051237e-02 -3.09142005e-02\n",
            "    9.27063078e-03  4.21687476e-02  4.96236570e-02  4.53829058e-02\n",
            "    2.19748281e-02 -3.94988880e-02]]\n",
            "\n",
            " [[ 3.74207012e-02  6.90812990e-03  5.25091961e-03  3.22087295e-02\n",
            "   -2.76272893e-02 -1.23854391e-02  2.95639038e-05 -1.93890091e-02\n",
            "    4.78644632e-02 -2.40914822e-02]\n",
            "  [ 3.74207012e-02  6.90812990e-03  5.25091961e-03  3.22087295e-02\n",
            "   -2.76272893e-02 -1.23854391e-02  2.95639038e-05 -1.93890091e-02\n",
            "    4.78644632e-02 -2.40914822e-02]\n",
            "  [ 3.74207012e-02  6.90812990e-03  5.25091961e-03  3.22087295e-02\n",
            "   -2.76272893e-02 -1.23854391e-02  2.95639038e-05 -1.93890091e-02\n",
            "    4.78644632e-02 -2.40914822e-02]\n",
            "  [ 1.46650933e-02  2.01878287e-02 -1.68701895e-02  3.88404392e-02\n",
            "    2.75360383e-02  4.51098792e-02 -2.22685467e-02  3.92328016e-02\n",
            "    1.75588392e-02  2.44856142e-02]\n",
            "  [ 4.23964970e-02  3.16241644e-02 -1.62383430e-02  3.20503749e-02\n",
            "    3.21860239e-03 -3.49074602e-02  2.54484080e-02  4.69786413e-02\n",
            "    8.74857977e-03 -1.17332339e-02]\n",
            "  [ 1.07795596e-02  3.03641707e-03  1.21088512e-02  3.49277891e-02\n",
            "   -4.40805070e-02 -4.28211205e-02 -4.80186604e-02  1.84761621e-02\n",
            "    4.38771732e-02  1.22835636e-02]\n",
            "  [ 3.11530493e-02 -1.77472457e-02 -3.47293727e-02 -4.39925455e-02\n",
            "   -3.18341851e-02  4.93727066e-02 -1.34895667e-02  3.01697515e-02\n",
            "   -1.93319675e-02 -5.00895083e-04]\n",
            "  [ 2.79946588e-02  2.54042186e-02  2.68251635e-02  2.70899385e-03\n",
            "   -1.54986382e-02  2.61267275e-03 -4.82063070e-02 -1.05186813e-02\n",
            "   -3.13687474e-02  1.33740641e-02]]\n",
            "\n",
            " [[ 3.74207012e-02  6.90812990e-03  5.25091961e-03  3.22087295e-02\n",
            "   -2.76272893e-02 -1.23854391e-02  2.95639038e-05 -1.93890091e-02\n",
            "    4.78644632e-02 -2.40914822e-02]\n",
            "  [ 3.74207012e-02  6.90812990e-03  5.25091961e-03  3.22087295e-02\n",
            "   -2.76272893e-02 -1.23854391e-02  2.95639038e-05 -1.93890091e-02\n",
            "    4.78644632e-02 -2.40914822e-02]\n",
            "  [ 3.74207012e-02  6.90812990e-03  5.25091961e-03  3.22087295e-02\n",
            "   -2.76272893e-02 -1.23854391e-02  2.95639038e-05 -1.93890091e-02\n",
            "    4.78644632e-02 -2.40914822e-02]\n",
            "  [ 1.46650933e-02  2.01878287e-02 -1.68701895e-02  3.88404392e-02\n",
            "    2.75360383e-02  4.51098792e-02 -2.22685467e-02  3.92328016e-02\n",
            "    1.75588392e-02  2.44856142e-02]\n",
            "  [ 4.23964970e-02  3.16241644e-02 -1.62383430e-02  3.20503749e-02\n",
            "    3.21860239e-03 -3.49074602e-02  2.54484080e-02  4.69786413e-02\n",
            "    8.74857977e-03 -1.17332339e-02]\n",
            "  [ 1.07795596e-02  3.03641707e-03  1.21088512e-02  3.49277891e-02\n",
            "   -4.40805070e-02 -4.28211205e-02 -4.80186604e-02  1.84761621e-02\n",
            "    4.38771732e-02  1.22835636e-02]\n",
            "  [ 3.11530493e-02 -1.77472457e-02 -3.47293727e-02 -4.39925455e-02\n",
            "   -3.18341851e-02  4.93727066e-02 -1.34895667e-02  3.01697515e-02\n",
            "   -1.93319675e-02 -5.00895083e-04]\n",
            "  [ 4.57933284e-02  2.10635923e-02  4.38553207e-02  3.61065939e-03\n",
            "    3.96441929e-02 -4.45573591e-02  4.99475040e-02 -3.62604260e-02\n",
            "   -3.12776342e-02 -2.30293758e-02]]\n",
            "\n",
            " [[ 3.74207012e-02  6.90812990e-03  5.25091961e-03  3.22087295e-02\n",
            "   -2.76272893e-02 -1.23854391e-02  2.95639038e-05 -1.93890091e-02\n",
            "    4.78644632e-02 -2.40914822e-02]\n",
            "  [ 3.74207012e-02  6.90812990e-03  5.25091961e-03  3.22087295e-02\n",
            "   -2.76272893e-02 -1.23854391e-02  2.95639038e-05 -1.93890091e-02\n",
            "    4.78644632e-02 -2.40914822e-02]\n",
            "  [ 3.74207012e-02  6.90812990e-03  5.25091961e-03  3.22087295e-02\n",
            "   -2.76272893e-02 -1.23854391e-02  2.95639038e-05 -1.93890091e-02\n",
            "    4.78644632e-02 -2.40914822e-02]\n",
            "  [ 1.62022822e-02 -3.74060757e-02 -3.66843827e-02  4.47797067e-02\n",
            "    5.51683828e-03  3.52739431e-02 -3.14267278e-02 -3.64353061e-02\n",
            "   -2.84285787e-02  3.98922004e-02]\n",
            "  [ 1.24138482e-02 -2.40385775e-02  4.35067154e-02  3.39941494e-02\n",
            "    2.94023491e-02 -9.75149870e-03  2.29061358e-02 -2.42879279e-02\n",
            "   -1.13171116e-02  1.34233721e-02]\n",
            "  [ 1.80248171e-03 -4.38852198e-02  4.09227945e-02  3.87677662e-02\n",
            "    3.82851101e-02  1.52118094e-02  3.46203335e-02 -1.72634013e-02\n",
            "    2.53561623e-02  2.50037424e-02]\n",
            "  [ 2.65495293e-02  3.12193967e-02 -3.62458006e-02  4.58343960e-02\n",
            "    4.19578589e-02 -3.81281264e-02 -1.52752884e-02 -4.17662784e-03\n",
            "   -5.73103502e-03 -7.71726295e-03]\n",
            "  [-8.18352774e-03 -4.17208672e-03  1.53595246e-02  2.39009522e-02\n",
            "   -2.34132055e-02 -2.91638859e-02 -4.13404703e-02 -3.68971750e-03\n",
            "    7.21400976e-03 -4.63248864e-02]]\n",
            "\n",
            " [[ 3.74207012e-02  6.90812990e-03  5.25091961e-03  3.22087295e-02\n",
            "   -2.76272893e-02 -1.23854391e-02  2.95639038e-05 -1.93890091e-02\n",
            "    4.78644632e-02 -2.40914822e-02]\n",
            "  [ 3.74207012e-02  6.90812990e-03  5.25091961e-03  3.22087295e-02\n",
            "   -2.76272893e-02 -1.23854391e-02  2.95639038e-05 -1.93890091e-02\n",
            "    4.78644632e-02 -2.40914822e-02]\n",
            "  [ 3.74207012e-02  6.90812990e-03  5.25091961e-03  3.22087295e-02\n",
            "   -2.76272893e-02 -1.23854391e-02  2.95639038e-05 -1.93890091e-02\n",
            "    4.78644632e-02 -2.40914822e-02]\n",
            "  [ 3.74207012e-02  6.90812990e-03  5.25091961e-03  3.22087295e-02\n",
            "   -2.76272893e-02 -1.23854391e-02  2.95639038e-05 -1.93890091e-02\n",
            "    4.78644632e-02 -2.40914822e-02]\n",
            "  [-2.18331348e-02  3.56388949e-02  8.49251822e-03  2.22919621e-02\n",
            "   -1.74775608e-02 -4.27085273e-02 -1.05763897e-02  3.66089605e-02\n",
            "    2.51472704e-02 -3.68181951e-02]\n",
            "  [ 5.67150116e-03  4.03693654e-02 -2.97644865e-02 -6.15406036e-03\n",
            "   -1.25056505e-03 -2.85877232e-02  1.93081237e-02  1.98251009e-03\n",
            "    4.52192314e-02 -4.75311056e-02]\n",
            "  [ 3.78867239e-03  5.63930720e-04 -9.32244211e-03  1.92906596e-02\n",
            "   -3.67661119e-02  1.94445960e-02  7.29346275e-03  4.32847030e-02\n",
            "    1.30198151e-03  2.64368989e-02]\n",
            "  [ 3.11530493e-02 -1.77472457e-02 -3.47293727e-02 -4.39925455e-02\n",
            "   -3.18341851e-02  4.93727066e-02 -1.34895667e-02  3.01697515e-02\n",
            "   -1.93319675e-02 -5.00895083e-04]]]\n"
          ]
        }
      ],
      "source": [
        "print(model.predict(embedded_docs))"
      ]
    },
    {
      "cell_type": "code",
      "execution_count": 24,
      "metadata": {
        "id": "JuUxfk7d0XGH",
        "outputId": "18a148cc-6f0a-4064-9e77-c0603831817c",
        "colab": {
          "base_uri": "https://localhost:8080/"
        }
      },
      "outputs": [
        {
          "output_type": "execute_result",
          "data": {
            "text/plain": [
              "array([  0,   0,   0,   0, 487, 124,  73,  15], dtype=int32)"
            ]
          },
          "metadata": {},
          "execution_count": 24
        }
      ],
      "source": [
        "embedded_docs[0]"
      ]
    },
    {
      "cell_type": "code",
      "execution_count": 25,
      "metadata": {
        "id": "6JJ_zD0u0XGH",
        "outputId": "39965087-bd75-4526-f42c-7d6ed7e621c3",
        "colab": {
          "base_uri": "https://localhost:8080/"
        }
      },
      "outputs": [
        {
          "output_type": "stream",
          "name": "stdout",
          "text": [
            "\u001b[1m1/1\u001b[0m \u001b[32m━━━━━━━━━━━━━━━━━━━━\u001b[0m\u001b[37m\u001b[0m \u001b[1m0s\u001b[0m 30ms/step\n",
            "[[ 3.7420701e-02  6.9081299e-03  5.2509196e-03  3.2208730e-02\n",
            "  -2.7627289e-02 -1.2385439e-02  2.9563904e-05 -1.9389009e-02\n",
            "   4.7864463e-02 -2.4091482e-02]\n",
            " [ 3.7420701e-02  6.9081299e-03  5.2509196e-03  3.2208730e-02\n",
            "  -2.7627289e-02 -1.2385439e-02  2.9563904e-05 -1.9389009e-02\n",
            "   4.7864463e-02 -2.4091482e-02]\n",
            " [ 3.7420701e-02  6.9081299e-03  5.2509196e-03  3.2208730e-02\n",
            "  -2.7627289e-02 -1.2385439e-02  2.9563904e-05 -1.9389009e-02\n",
            "   4.7864463e-02 -2.4091482e-02]\n",
            " [ 3.7420701e-02  6.9081299e-03  5.2509196e-03  3.2208730e-02\n",
            "  -2.7627289e-02 -1.2385439e-02  2.9563904e-05 -1.9389009e-02\n",
            "   4.7864463e-02 -2.4091482e-02]\n",
            " [ 1.2413848e-02 -2.4038577e-02  4.3506715e-02  3.3994149e-02\n",
            "   2.9402349e-02 -9.7514987e-03  2.2906136e-02 -2.4287928e-02\n",
            "  -1.1317112e-02  1.3423372e-02]\n",
            " [ 2.1517847e-02  2.7032863e-02  2.8957240e-03 -1.0201443e-02\n",
            "   2.2036638e-02 -9.2646591e-03  6.0701482e-03 -6.1162002e-03\n",
            "  -4.3177523e-02 -2.1642018e-02]\n",
            " [ 2.6549529e-02  3.1219397e-02 -3.6245801e-02  4.5834396e-02\n",
            "   4.1957859e-02 -3.8128126e-02 -1.5275288e-02 -4.1766278e-03\n",
            "  -5.7310350e-03 -7.7172630e-03]\n",
            " [-3.0256379e-02 -6.3486099e-03 -1.4439654e-02  2.2329632e-02\n",
            "   3.6969911e-02  7.1192496e-03  1.6490374e-02  2.1468256e-02\n",
            "  -4.3881405e-02 -2.2606147e-02]]\n"
          ]
        }
      ],
      "source": [
        "print(model.predict(embedded_docs)[0])"
      ]
    },
    {
      "cell_type": "code",
      "execution_count": null,
      "metadata": {
        "id": "8OMu3iAz0XGH"
      },
      "outputs": [],
      "source": [
        "### Assignment\n",
        "\n",
        "sent=[\"The world is a better place\",\n",
        "      \"Marvel series is my favourite movie\",\n",
        "      \"I like DC movies\",\n",
        "      \"the cat is eating the food\",\n",
        "      \"Tom and Jerry is my favourite movie\",\n",
        "      \"Python is my favourite programming language\"\n",
        "      ]"
      ]
    }
  ],
  "metadata": {
    "kernelspec": {
      "display_name": "Python 3",
      "language": "python",
      "name": "python3"
    },
    "language_info": {
      "codemirror_mode": {
        "name": "ipython",
        "version": 3
      },
      "file_extension": ".py",
      "mimetype": "text/x-python",
      "name": "python",
      "nbconvert_exporter": "python",
      "pygments_lexer": "ipython3",
      "version": "3.7.4"
    },
    "colab": {
      "provenance": [],
      "include_colab_link": true
    },
    "accelerator": "GPU",
    "gpuClass": "standard"
  },
  "nbformat": 4,
  "nbformat_minor": 0
}